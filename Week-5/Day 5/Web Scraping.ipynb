{
 "cells": [
  {
   "cell_type": "markdown",
   "id": "worst-sally",
   "metadata": {},
   "source": [
    "### Web scrapping for [Sayarh Website](https://syarah.com)"
   ]
  },
  {
   "cell_type": "code",
   "execution_count": 1,
   "id": "complimentary-harvard",
   "metadata": {},
   "outputs": [],
   "source": [
    "import requests\n",
    "from bs4 import BeautifulSoup\n",
    "from selenium import webdriver  \n",
    "import pandas as pd"
   ]
  },
  {
   "cell_type": "markdown",
   "id": "338604af-c89b-4c3f-92f2-85dec04c0f78",
   "metadata": {},
   "source": [
    "#### Use only BeautifulSoup"
   ]
  },
  {
   "cell_type": "code",
   "execution_count": null,
   "id": "yellow-matter",
   "metadata": {},
   "outputs": [],
   "source": [
    "url = 'https://syarah.com/filters?condition_id=0'\n",
    "page = requests.get(url)\n",
    "print(page.status_code)"
   ]
  },
  {
   "cell_type": "code",
   "execution_count": 64,
   "id": "b30421a2-2400-454c-bf79-759f878c07ac",
   "metadata": {},
   "outputs": [
    {
     "name": "stdout",
     "output_type": "stream",
     "text": [
      "<class 'str'>\n"
     ]
    }
   ],
   "source": [
    "print(type(page.text))\n",
    "#print(page.text)"
   ]
  },
  {
   "cell_type": "code",
   "execution_count": 65,
   "id": "d12f7158-d37d-4c17-8a32-ef0148eed24a",
   "metadata": {},
   "outputs": [
    {
     "name": "stdout",
     "output_type": "stream",
     "text": [
      "<class 'bs4.BeautifulSoup'>\n"
     ]
    }
   ],
   "source": [
    "soup = BeautifulSoup(page.content, 'html.parser')\n",
    "print(type(soup))\n",
    "#soup"
   ]
  },
  {
   "cell_type": "code",
   "execution_count": 66,
   "id": "7e8cfded-9678-44f7-bed2-67746b5d069b",
   "metadata": {},
   "outputs": [
    {
     "data": {
      "text/plain": [
       "'سيارات مستعملة للبيع في السعودية - سيارات جديدة: أفضل سعر | موقع سيارة '"
      ]
     },
     "execution_count": 66,
     "metadata": {},
     "output_type": "execute_result"
    }
   ],
   "source": [
    "page_title = soup.title.text # gets you the text of the <title>(...)</title>\n",
    "page_title"
   ]
  },
  {
   "cell_type": "code",
   "execution_count": 40,
   "id": "e05a9913-69f2-4ca1-ae3f-c8d8251986f9",
   "metadata": {},
   "outputs": [],
   "source": [
    "# Extract body of page\n",
    "page_body = soup.body\n",
    "#page_body "
   ]
  },
  {
   "cell_type": "code",
   "execution_count": null,
   "id": "3be1c7dc-27c0-4f8a-a7d9-734295e018ca",
   "metadata": {},
   "outputs": [],
   "source": [
    "# extract car names\n",
    "divs = soup.find_all('h2', {'class':\"CardBody-module__title interActiveGray\"})\n",
    "divs"
   ]
  },
  {
   "cell_type": "markdown",
   "id": "c2880a8e-5578-463a-89f9-6134f1c1022e",
   "metadata": {},
   "source": [
    "#### Try selenium"
   ]
  },
  {
   "cell_type": "code",
   "execution_count": 6,
   "id": "7ac040e6-bc27-44f3-ba01-ee4e0c63bdc9",
   "metadata": {},
   "outputs": [],
   "source": [
    "driver = webdriver.Chrome()\n",
    "# request the page \n",
    "driver.get(url)\n",
    "\n",
    "        # extract the body and parse it\n",
    "soup = BeautifulSoup(driver.page_source, \"html.parser\")\n",
    "driver.quit()"
   ]
  },
  {
   "cell_type": "code",
   "execution_count": 2,
   "id": "6e8d94c1-0c0a-4d28-a89a-25f9f2e1c330",
   "metadata": {},
   "outputs": [
    {
     "name": "stdout",
     "output_type": "stream",
     "text": [
      "[<strong class=\"interActiveGreen\">57,000</strong>, <strong class=\"interActiveGreen\">79,500</strong>, <strong class=\"interActiveGreen\">38,400</strong>, <strong class=\"interActiveGreen\">69,400</strong>, <strong class=\"interActiveGreen\">65,000</strong>, <strong class=\"interActiveGreen\">80,500</strong>, <strong class=\"interActiveGreen\">57,100</strong>, <strong class=\"interActiveGreen\">74,500</strong>, <strong class=\"interActiveGreen\">44,000</strong>, <strong class=\"interActiveGreen\">55,000</strong>, <strong class=\"interActiveGreen\">48,000</strong>, <strong class=\"interActiveGreen\">59,000</strong>]\n",
      "[<strong class=\"interActiveGreen\">139,500</strong>, <strong class=\"interActiveGreen\">62,500</strong>, <strong class=\"interActiveGreen\">64,200</strong>, <strong class=\"interActiveGreen\">57,600</strong>, <strong class=\"interActiveGreen\">64,500</strong>, <strong class=\"interActiveGreen\">47,500</strong>, <strong class=\"interActiveGreen\">119,300</strong>, <strong class=\"interActiveGreen\">55,100</strong>, <strong class=\"interActiveGreen\">49,500</strong>, <strong class=\"interActiveGreen\">55,000</strong>, <strong class=\"interActiveGreen\">51,000</strong>, <strong class=\"interActiveGreen\">65,000</strong>]\n"
     ]
    }
   ],
   "source": [
    "# try 10 pages\n",
    "\n",
    "driver = webdriver.Chrome()\n",
    "url = 'https://syarah.com/filters?condition_id=0'\n",
    "columns_ = ['Names', 'Prices']\n",
    "df = pd.DataFrame(columns=columns_)\n",
    "                  \n",
    "for i in range(2, 4):\n",
    "\n",
    "    # request the page \n",
    "    driver.get(url)\n",
    "\n",
    "    # extract the body and parse it\n",
    "    soup = BeautifulSoup(driver.page_source, \"html.parser\")\n",
    "\n",
    "    # extrace prices and ars names from page\n",
    "    prices = soup.find_all('strong', {'class':\"interActiveGreen\"})\n",
    "    names = soup.find_all('h2', {'class':\"CardBody-module__title interActiveGray\"})\n",
    "\n",
    "    # clean them\n",
    "    clean_prices = []\n",
    "    clean_names = []\n",
    "    for p, n, in zip(prices, names):\n",
    "        clean_prices.append(p.text)\n",
    "        clean_names.append(n.text)\n",
    "\n",
    "    # store them \n",
    "    new_rows_df = pd.DataFrame(\n",
    "        {\n",
    "            'Names': clean_names, \n",
    "            'Prices': clean_prices\n",
    "        })\n",
    "\n",
    "    df = pd.concat([df, new_rows_df], ignore_index=True)\n",
    "\n",
    "    # prepare new link\n",
    "    url = f\"https://syarah.com/filters?condition_id=0&page={i}\"\n",
    "driver.quit()"
   ]
  },
  {
   "cell_type": "code",
   "execution_count": 3,
   "id": "44012f2f-d981-4de6-855a-ac3f91eb5faa",
   "metadata": {},
   "outputs": [
    {
     "data": {
      "text/html": [
       "<div>\n",
       "<style scoped>\n",
       "    .dataframe tbody tr th:only-of-type {\n",
       "        vertical-align: middle;\n",
       "    }\n",
       "\n",
       "    .dataframe tbody tr th {\n",
       "        vertical-align: top;\n",
       "    }\n",
       "\n",
       "    .dataframe thead th {\n",
       "        text-align: right;\n",
       "    }\n",
       "</style>\n",
       "<table border=\"1\" class=\"dataframe\">\n",
       "  <thead>\n",
       "    <tr style=\"text-align: right;\">\n",
       "      <th></th>\n",
       "      <th>Name</th>\n",
       "      <th>Price</th>\n",
       "      <th>Names</th>\n",
       "      <th>Prices</th>\n",
       "    </tr>\n",
       "  </thead>\n",
       "  <tbody>\n",
       "    <tr>\n",
       "      <th>0</th>\n",
       "      <td>NaN</td>\n",
       "      <td>NaN</td>\n",
       "      <td>ميتسوبيشي L200 DC 4x2 2020</td>\n",
       "      <td>57,000</td>\n",
       "    </tr>\n",
       "    <tr>\n",
       "      <th>1</th>\n",
       "      <td>NaN</td>\n",
       "      <td>NaN</td>\n",
       "      <td>ميتسوبيشي باجيرو GLS 4Doors 2020 دبل</td>\n",
       "      <td>79,500</td>\n",
       "    </tr>\n",
       "    <tr>\n",
       "      <th>2</th>\n",
       "      <td>NaN</td>\n",
       "      <td>NaN</td>\n",
       "      <td>نيسان ددسن GL 2016</td>\n",
       "      <td>38,400</td>\n",
       "    </tr>\n",
       "    <tr>\n",
       "      <th>3</th>\n",
       "      <td>NaN</td>\n",
       "      <td>NaN</td>\n",
       "      <td>فولكس فاجن تي روك ستايل 2021</td>\n",
       "      <td>69,400</td>\n",
       "    </tr>\n",
       "    <tr>\n",
       "      <th>4</th>\n",
       "      <td>NaN</td>\n",
       "      <td>NaN</td>\n",
       "      <td>ام جي HS DEL 2021 دبل</td>\n",
       "      <td>65,000</td>\n",
       "    </tr>\n",
       "    <tr>\n",
       "      <th>5</th>\n",
       "      <td>NaN</td>\n",
       "      <td>NaN</td>\n",
       "      <td>هيونداي ستاريا Van 2022</td>\n",
       "      <td>80,500</td>\n",
       "    </tr>\n",
       "    <tr>\n",
       "      <th>6</th>\n",
       "      <td>NaN</td>\n",
       "      <td>NaN</td>\n",
       "      <td>فورد اسكايب  2019</td>\n",
       "      <td>57,100</td>\n",
       "    </tr>\n",
       "    <tr>\n",
       "      <th>7</th>\n",
       "      <td>NaN</td>\n",
       "      <td>NaN</td>\n",
       "      <td>نيسان التيما S 2022</td>\n",
       "      <td>74,500</td>\n",
       "    </tr>\n",
       "    <tr>\n",
       "      <th>8</th>\n",
       "      <td>NaN</td>\n",
       "      <td>NaN</td>\n",
       "      <td>نيسان سنترا S 2020</td>\n",
       "      <td>44,000</td>\n",
       "    </tr>\n",
       "    <tr>\n",
       "      <th>9</th>\n",
       "      <td>NaN</td>\n",
       "      <td>NaN</td>\n",
       "      <td>فاو بيستون تي 77  2021</td>\n",
       "      <td>55,000</td>\n",
       "    </tr>\n",
       "    <tr>\n",
       "      <th>10</th>\n",
       "      <td>NaN</td>\n",
       "      <td>NaN</td>\n",
       "      <td>فورد F150 XL 2018</td>\n",
       "      <td>48,000</td>\n",
       "    </tr>\n",
       "    <tr>\n",
       "      <th>11</th>\n",
       "      <td>NaN</td>\n",
       "      <td>NaN</td>\n",
       "      <td>شفروليه كابتيفا LS 2022</td>\n",
       "      <td>59,000</td>\n",
       "    </tr>\n",
       "    <tr>\n",
       "      <th>12</th>\n",
       "      <td>NaN</td>\n",
       "      <td>NaN</td>\n",
       "      <td>شفروليه تاهو LS 2019 دبل</td>\n",
       "      <td>139,500</td>\n",
       "    </tr>\n",
       "    <tr>\n",
       "      <th>13</th>\n",
       "      <td>NaN</td>\n",
       "      <td>NaN</td>\n",
       "      <td>كيا سبورتاج LX 2020 دبل</td>\n",
       "      <td>62,500</td>\n",
       "    </tr>\n",
       "    <tr>\n",
       "      <th>14</th>\n",
       "      <td>NaN</td>\n",
       "      <td>NaN</td>\n",
       "      <td>كيا سورينتو LX 2020 Double</td>\n",
       "      <td>64,200</td>\n",
       "    </tr>\n",
       "    <tr>\n",
       "      <th>15</th>\n",
       "      <td>NaN</td>\n",
       "      <td>NaN</td>\n",
       "      <td>هيونداي النترا GL 2020</td>\n",
       "      <td>57,600</td>\n",
       "    </tr>\n",
       "    <tr>\n",
       "      <th>16</th>\n",
       "      <td>NaN</td>\n",
       "      <td>NaN</td>\n",
       "      <td>هيونداي توسان Base 2017</td>\n",
       "      <td>64,500</td>\n",
       "    </tr>\n",
       "    <tr>\n",
       "      <th>17</th>\n",
       "      <td>NaN</td>\n",
       "      <td>NaN</td>\n",
       "      <td>ام جي ZS STD 2020</td>\n",
       "      <td>47,500</td>\n",
       "    </tr>\n",
       "    <tr>\n",
       "      <th>18</th>\n",
       "      <td>NaN</td>\n",
       "      <td>NaN</td>\n",
       "      <td>هونشي HS5  2024</td>\n",
       "      <td>119,300</td>\n",
       "    </tr>\n",
       "    <tr>\n",
       "      <th>19</th>\n",
       "      <td>NaN</td>\n",
       "      <td>NaN</td>\n",
       "      <td>ماكسيوس D60 Elite 2022</td>\n",
       "      <td>55,100</td>\n",
       "    </tr>\n",
       "    <tr>\n",
       "      <th>20</th>\n",
       "      <td>NaN</td>\n",
       "      <td>NaN</td>\n",
       "      <td>هافال جوليان Basic 2022</td>\n",
       "      <td>49,500</td>\n",
       "    </tr>\n",
       "    <tr>\n",
       "      <th>21</th>\n",
       "      <td>NaN</td>\n",
       "      <td>NaN</td>\n",
       "      <td>هافال H6 إنتيليجنت 2021</td>\n",
       "      <td>55,000</td>\n",
       "    </tr>\n",
       "    <tr>\n",
       "      <th>22</th>\n",
       "      <td>NaN</td>\n",
       "      <td>NaN</td>\n",
       "      <td>هافال جوليان Active 2022</td>\n",
       "      <td>51,000</td>\n",
       "    </tr>\n",
       "    <tr>\n",
       "      <th>23</th>\n",
       "      <td>NaN</td>\n",
       "      <td>NaN</td>\n",
       "      <td>هافال H6 أكتف الإصدار الجديد 2022</td>\n",
       "      <td>65,000</td>\n",
       "    </tr>\n",
       "  </tbody>\n",
       "</table>\n",
       "</div>"
      ],
      "text/plain": [
       "   Name Price                                 Names   Prices\n",
       "0   NaN   NaN           ميتسوبيشي L200 DC 4x2 2020    57,000\n",
       "1   NaN   NaN  ميتسوبيشي باجيرو GLS 4Doors 2020 دبل   79,500\n",
       "2   NaN   NaN                   نيسان ددسن GL 2016    38,400\n",
       "3   NaN   NaN         فولكس فاجن تي روك ستايل 2021    69,400\n",
       "4   NaN   NaN                 ام جي HS DEL 2021 دبل   65,000\n",
       "5   NaN   NaN              هيونداي ستاريا Van 2022    80,500\n",
       "6   NaN   NaN                    فورد اسكايب  2019    57,100\n",
       "7   NaN   NaN                  نيسان التيما S 2022    74,500\n",
       "8   NaN   NaN                   نيسان سنترا S 2020    44,000\n",
       "9   NaN   NaN               فاو بيستون تي 77  2021    55,000\n",
       "10  NaN   NaN                    فورد F150 XL 2018    48,000\n",
       "11  NaN   NaN              شفروليه كابتيفا LS 2022    59,000\n",
       "12  NaN   NaN              شفروليه تاهو LS 2019 دبل  139,500\n",
       "13  NaN   NaN               كيا سبورتاج LX 2020 دبل   62,500\n",
       "14  NaN   NaN            كيا سورينتو LX 2020 Double   64,200\n",
       "15  NaN   NaN               هيونداي النترا GL 2020    57,600\n",
       "16  NaN   NaN              هيونداي توسان Base 2017    64,500\n",
       "17  NaN   NaN                    ام جي ZS STD 2020    47,500\n",
       "18  NaN   NaN                      هونشي HS5  2024   119,300\n",
       "19  NaN   NaN               ماكسيوس D60 Elite 2022    55,100\n",
       "20  NaN   NaN              هافال جوليان Basic 2022    49,500\n",
       "21  NaN   NaN              هافال H6 إنتيليجنت 2021    55,000\n",
       "22  NaN   NaN             هافال جوليان Active 2022    51,000\n",
       "23  NaN   NaN    هافال H6 أكتف الإصدار الجديد 2022    65,000"
      ]
     },
     "execution_count": 3,
     "metadata": {},
     "output_type": "execute_result"
    }
   ],
   "source": [
    "df"
   ]
  }
 ],
 "metadata": {
  "kernelspec": {
   "display_name": "DP",
   "language": "python",
   "name": "dp"
  },
  "language_info": {
   "codemirror_mode": {
    "name": "ipython",
    "version": 3
   },
   "file_extension": ".py",
   "mimetype": "text/x-python",
   "name": "python",
   "nbconvert_exporter": "python",
   "pygments_lexer": "ipython3",
   "version": "3.11.7"
  }
 },
 "nbformat": 4,
 "nbformat_minor": 5
}
